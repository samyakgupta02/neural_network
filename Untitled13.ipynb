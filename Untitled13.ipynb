{
  "nbformat": 4,
  "nbformat_minor": 0,
  "metadata": {
    "colab": {
      "provenance": [],
      "authorship_tag": "ABX9TyNeMmqjEsyjpbO6+Qj/siba",
      "include_colab_link": true
    },
    "kernelspec": {
      "name": "python3",
      "display_name": "Python 3"
    },
    "language_info": {
      "name": "python"
    }
  },
  "cells": [
    {
      "cell_type": "markdown",
      "metadata": {
        "id": "view-in-github",
        "colab_type": "text"
      },
      "source": [
        "<a href=\"https://colab.research.google.com/github/samyakgupta02/neural_network/blob/main/Untitled13.ipynb\" target=\"_parent\"><img src=\"https://colab.research.google.com/assets/colab-badge.svg\" alt=\"Open In Colab\"/></a>"
      ]
    },
    {
      "cell_type": "code",
      "execution_count": null,
      "metadata": {
        "id": "SrrNEJSDaEZU"
      },
      "outputs": [],
      "source": [
        "from PIL import Image\n",
        "import numpy as np\n",
        "\n",
        "# Load the original image\n",
        "original_image = Image.open(\"/content/India_vegetation,_natural_and_cultivated,_favorable_weather_boosts_Indian_agriculture,_April_2008.jpg\")\n",
        "\n",
        "# Convert the image to a numpy array for manipulation\n",
        "image_array = np.array(original_image)\n",
        "\n",
        "# Choose the bands you want to map to different color channels\n",
        "red_band = image_array[:, :, 0]  # Assuming red is in the first channel (index 0)\n",
        "green_band = image_array[:, :, 1]  # Assuming green is in the second channel (index 1)\n",
        "blue_band = image_array[:, :, 2]  # Assuming blue is in the third channel (index 2)\n",
        "\n",
        "# Create a blank image of the same size with 3 color channels\n",
        "false_color_image = np.zeros_like(image_array)\n",
        "\n",
        "# Map the bands to the color channels\n",
        "false_color_image[:, :, 0] = red_band  # Red channel\n",
        "false_color_image[:, :, 1] = green_band  # Green channel\n",
        "false_color_image[:, :, 2] = blue_band  # Blue channel\n",
        "\n",
        "# Convert the numpy array back to a Pillow image\n",
        "false_color_image_pil = Image.fromarray(false_color_image)\n",
        "\n",
        "# Save the false color composite image\n",
        "false_color_image_pil.save(\"false_color_image.jpg\")\n"
      ]
    }
  ]
}